{
 "cells": [
  {
   "cell_type": "code",
   "execution_count": 1,
   "metadata": {},
   "outputs": [],
   "source": [
    "import cv2\n",
    "import numpy as np\n",
    "import matplotlib.pyplot as plt\n",
    "import os\n",
    "from sklearn.metrics import silhouette_score\n",
    "from matplotlib import cm\n",
    "\n",
    "from clustering import process_image, initialize_centroids, kmeans_manual, predict_clustering, visualize_clusters"
   ]
  },
  {
   "cell_type": "code",
   "execution_count": 2,
   "metadata": {},
   "outputs": [],
   "source": [
    "PATH_TRAIN = 'data'\n",
    "PATH_TEST = 'test'\n",
    "k = 3"
   ]
  },
  {
   "cell_type": "code",
   "execution_count": 3,
   "metadata": {},
   "outputs": [
    {
     "ename": "AttributeError",
     "evalue": "'str' object has no attribute 'read'",
     "output_type": "error",
     "traceback": [
      "\u001b[1;31m---------------------------------------------------------------------------\u001b[0m",
      "\u001b[1;31mAttributeError\u001b[0m                            Traceback (most recent call last)",
      "Cell \u001b[1;32mIn[3], line 11\u001b[0m\n\u001b[0;32m      9\u001b[0m \u001b[38;5;28;01mif\u001b[39;00m filename\u001b[38;5;241m.\u001b[39mendswith(\u001b[38;5;124m\"\u001b[39m\u001b[38;5;124m.jpg\u001b[39m\u001b[38;5;124m\"\u001b[39m) \u001b[38;5;129;01mor\u001b[39;00m filename\u001b[38;5;241m.\u001b[39mendswith(\u001b[38;5;124m\"\u001b[39m\u001b[38;5;124m.png\u001b[39m\u001b[38;5;124m\"\u001b[39m):  \u001b[38;5;66;03m# Filter untuk file gambar\u001b[39;00m\n\u001b[0;32m     10\u001b[0m     image_path \u001b[38;5;241m=\u001b[39m os\u001b[38;5;241m.\u001b[39mpath\u001b[38;5;241m.\u001b[39mjoin(folder_path, filename)\n\u001b[1;32m---> 11\u001b[0m     pixels \u001b[38;5;241m=\u001b[39m \u001b[43mprocess_image\u001b[49m\u001b[43m(\u001b[49m\u001b[43mimage_path\u001b[49m\u001b[43m)\u001b[49m\n\u001b[0;32m     12\u001b[0m     \u001b[38;5;28;01mif\u001b[39;00m pixels \u001b[38;5;129;01mis\u001b[39;00m \u001b[38;5;129;01mnot\u001b[39;00m \u001b[38;5;28;01mNone\u001b[39;00m:\n\u001b[0;32m     13\u001b[0m         all_pixels\u001b[38;5;241m.\u001b[39mappend(pixels)\n",
      "File \u001b[1;32mc:\\Users\\LENOVO\\Documents\\a kuliah\\datmin\\uts\\mini-proyek-datmin\\clustering.py:14\u001b[0m, in \u001b[0;36mprocess_image\u001b[1;34m(uploaded_file, image_size)\u001b[0m\n\u001b[0;32m     12\u001b[0m \u001b[38;5;28;01mdef\u001b[39;00m \u001b[38;5;21mprocess_image\u001b[39m(uploaded_file, image_size\u001b[38;5;241m=\u001b[39m(\u001b[38;5;241m75\u001b[39m, \u001b[38;5;241m75\u001b[39m)):\n\u001b[0;32m     13\u001b[0m     \u001b[38;5;66;03m# Membaca file gambar dari streamlit\u001b[39;00m\n\u001b[1;32m---> 14\u001b[0m     file_bytes \u001b[38;5;241m=\u001b[39m np\u001b[38;5;241m.\u001b[39masarray(\u001b[38;5;28mbytearray\u001b[39m(\u001b[43muploaded_file\u001b[49m\u001b[38;5;241;43m.\u001b[39;49m\u001b[43mread\u001b[49m()), dtype\u001b[38;5;241m=\u001b[39mnp\u001b[38;5;241m.\u001b[39muint8)\n\u001b[0;32m     15\u001b[0m     image \u001b[38;5;241m=\u001b[39m cv2\u001b[38;5;241m.\u001b[39mimdecode(file_bytes, \u001b[38;5;241m1\u001b[39m)\n\u001b[0;32m     17\u001b[0m     \u001b[38;5;28;01mif\u001b[39;00m image \u001b[38;5;129;01mis\u001b[39;00m \u001b[38;5;28;01mNone\u001b[39;00m:\n",
      "\u001b[1;31mAttributeError\u001b[0m: 'str' object has no attribute 'read'"
     ]
    }
   ],
   "source": [
    "# Path ke folder data\n",
    "folder_path = PATH_TRAIN\n",
    "\n",
    "# List untuk menyimpan semua pixel dari semua gambar\n",
    "all_pixels = []\n",
    "\n",
    "# Loop melalui semua file gambar di folder\n",
    "for filename in os.listdir(folder_path):\n",
    "    if filename.endswith(\".jpg\") or filename.endswith(\".png\"):  # Filter untuk file gambar\n",
    "        image_path = os.path.join(folder_path, filename)\n",
    "        pixels = process_image(image_path)\n",
    "        if pixels is not None:\n",
    "            all_pixels.append(pixels)\n",
    "\n",
    "# Gabungkan semua pixel dari gambar-gambar menjadi satu array 2D\n",
    "all_pixels = np.vstack(all_pixels)\n",
    "pixels = all_pixels\n",
    "# Output jumlah pixel total\n",
    "print(f\"Total jumlah pixel: {all_pixels.shape[0]}\")\n"
   ]
  },
  {
   "cell_type": "code",
   "execution_count": 21,
   "metadata": {},
   "outputs": [
    {
     "name": "stdout",
     "output_type": "stream",
     "text": [
      "0\n",
      "1\n",
      "2\n",
      "3\n",
      "4\n",
      "5\n",
      "6\n",
      "7\n",
      "8\n",
      "9\n",
      "10\n",
      "11\n",
      "12\n",
      "13\n",
      "14\n",
      "15\n",
      "16\n",
      "17\n",
      "18\n",
      "19\n",
      "20\n",
      "21\n",
      "22\n",
      "23\n",
      "24\n",
      "25\n"
     ]
    },
    {
     "data": {
      "text/plain": [
       "array([[ 44.53941738,  55.3251861 ,  41.62083114],\n",
       "       [119.31633687, 119.32437361, 104.04646451],\n",
       "       [206.50193153, 205.75849207, 201.20447582]])"
      ]
     },
     "execution_count": 21,
     "metadata": {},
     "output_type": "execute_result"
    }
   ],
   "source": [
    "stcentroid = initialize_centroids(pixels, k)\n",
    "# stcentroid = initialize_centroids_kmeans_pp(pixels,k)\n",
    "centroids = kmeans_manual(pixels,k,stcentroid)\n",
    "\n",
    "# Buat gambar baru berdasarkan label cluster\n",
    "# clustered_image = labels.reshape(image.shape[:2])\n",
    "centroids"
   ]
  },
  {
   "cell_type": "code",
   "execution_count": 23,
   "metadata": {},
   "outputs": [
    {
     "name": "stdout",
     "output_type": "stream",
     "text": [
      "mountain_314.jpg\n"
     ]
    },
    {
     "ename": "NameError",
     "evalue": "name 'show_image' is not defined",
     "output_type": "error",
     "traceback": [
      "\u001b[1;31m---------------------------------------------------------------------------\u001b[0m",
      "\u001b[1;31mNameError\u001b[0m                                 Traceback (most recent call last)",
      "Cell \u001b[1;32mIn[23], line 34\u001b[0m\n\u001b[0;32m     31\u001b[0m         all_pixels\u001b[38;5;241m.\u001b[39mappend(pixels)\n\u001b[0;32m     33\u001b[0m         \u001b[38;5;66;03m# Tampilkan gambar\u001b[39;00m\n\u001b[1;32m---> 34\u001b[0m         \u001b[43mshow_image\u001b[49m(image, \u001b[38;5;124mf\u001b[39m\u001b[38;5;124m'\u001b[39m\u001b[38;5;124mImage: \u001b[39m\u001b[38;5;132;01m{\u001b[39;00mfilename\u001b[38;5;132;01m}\u001b[39;00m\u001b[38;5;124m'\u001b[39m)\n\u001b[0;32m     36\u001b[0m \u001b[38;5;66;03m# Tampilkan jumlah gambar yang dimuat\u001b[39;00m\n\u001b[0;32m     37\u001b[0m \u001b[38;5;28mprint\u001b[39m(\u001b[38;5;124mf\u001b[39m\u001b[38;5;124m\"\u001b[39m\u001b[38;5;124mTotal images loaded: \u001b[39m\u001b[38;5;132;01m{\u001b[39;00m\u001b[38;5;28mlen\u001b[39m(all_images)\u001b[38;5;132;01m}\u001b[39;00m\u001b[38;5;124m\"\u001b[39m)\n",
      "\u001b[1;31mNameError\u001b[0m: name 'show_image' is not defined"
     ]
    }
   ],
   "source": [
    "# Folder yang berisi gambar\n",
    "folder_path = PATH_TEST  # Ganti dengan path folder Anda\n",
    "\n",
    "# List untuk menyimpan semua pixels dan gambar\n",
    "all_images = []\n",
    "all_pixels = []\n",
    "\n",
    "# Menelusuri semua file dalam folder\n",
    "for filename in os.listdir(folder_path):\n",
    "    if filename.endswith(('.jpg', '.jpeg', '.png')):  # Menghitung hanya file gambar\n",
    "        # Membaca gambar\n",
    "        print(filename)\n",
    "        image = cv2.imread(os.path.join(folder_path, filename))\n",
    "\n",
    "        # Cek apakah gambar berhasil dibaca\n",
    "        if image is None:\n",
    "            print(f\"Gagal membaca gambar: {filename}\")\n",
    "            continue\n",
    "\n",
    "        # Resize gambar ke 200x200\n",
    "        image = cv2.resize(image, (200, 200))\n",
    "\n",
    "        # Convert BGR ke RGB\n",
    "        image = cv2.cvtColor(image, cv2.COLOR_BGR2RGB)\n",
    "\n",
    "        # Ubah gambar menjadi array pixel 2D\n",
    "        pixels = image.reshape(-1, 3)  # Bentuknya jadi (n_samples, 3)\n",
    "\n",
    "        # Menambahkan pixels dan gambar ke list\n",
    "        all_images.append(image)\n",
    "        all_pixels.append(pixels)\n",
    "\n",
    "        # Tampilkan gambar\n",
    "        show_image(image, f'Image: {filename}')\n",
    "\n",
    "# Tampilkan jumlah gambar yang dimuat\n",
    "print(f\"Total images loaded: {len(all_images)}\")\n"
   ]
  },
  {
   "cell_type": "code",
   "execution_count": null,
   "metadata": {},
   "outputs": [],
   "source": [
    "labels = []\n",
    "for i in range(len(all_images)):\n",
    "    labels.append(predict_clustering(all_pixels[i],centroids))\n",
    "    colored_clustered_image = visualize_clusters(image, labels[i], k, centroids)\n",
    "    # show_image(colored_clustered_image, 'Colored Clustered Image')\n",
    "    # Tampilkan gambar dengan legenda\n",
    "    show_image_with_legend(colored_clustered_image, centroids, k, 'Colored Clustered Image with Legend')\n",
    "labels"
   ]
  },
  {
   "cell_type": "code",
   "execution_count": null,
   "metadata": {},
   "outputs": [],
   "source": [
    "# Tentukan colormap\n",
    "for i in range(len(all_images)):\n",
    "    sil_score = silhouette_score(all_pixels[i], labels[i])\n",
    "\n",
    "    print(f\"Silhouette Score: {sil_score:.3f}\")\n"
   ]
  },
  {
   "cell_type": "code",
   "execution_count": null,
   "metadata": {},
   "outputs": [],
   "source": []
  }
 ],
 "metadata": {
  "kernelspec": {
   "display_name": "Python 3",
   "language": "python",
   "name": "python3"
  },
  "language_info": {
   "codemirror_mode": {
    "name": "ipython",
    "version": 3
   },
   "file_extension": ".py",
   "mimetype": "text/x-python",
   "name": "python",
   "nbconvert_exporter": "python",
   "pygments_lexer": "ipython3",
   "version": "3.11.4"
  }
 },
 "nbformat": 4,
 "nbformat_minor": 2
}
